{
 "cells": [
  {
   "cell_type": "markdown",
   "id": "c628b155-672e-4cbd-8b93-9017db0b3981",
   "metadata": {},
   "source": [
    "You are climbing a staircase. It takes n steps to reach the top.\n",
    "\n",
    "Each time you can either climb 1 or 2 steps. In how many distinct ways can you climb to the top?\n",
    "\n",
    " \n",
    "\n",
    "Example 1:\n",
    "\n",
    "Input: n = 2\n",
    "Output: 2\n",
    "Explanation: There are two ways to climb to the top.\n",
    "1. 1 step + 1 step\n",
    "2. 2 steps\n",
    "Example 2:\n",
    "\n",
    "Input: n = 3\n",
    "Output: 3\n",
    "Explanation: There are three ways to climb to the top.\n",
    "1. 1 step + 1 step + 1 step\n",
    "2. 1 step + 2 steps\n",
    "3. 2 steps + 1 step\n",
    " \n",
    "\n",
    "Constraints:\n",
    "\n",
    "1 <= n <= 45"
   ]
  },
  {
   "cell_type": "markdown",
   "id": "ff02b071-4de4-46fa-bd58-0900369fe2b9",
   "metadata": {},
   "source": [
    "## Recursive Approach"
   ]
  },
  {
   "cell_type": "code",
   "execution_count": 37,
   "id": "69856547-4934-45cf-942a-6292126460a6",
   "metadata": {},
   "outputs": [],
   "source": [
    "def climbingStairs(n, i = 0):\n",
    "    if i == n:\n",
    "        return 1\n",
    "    if i > n:\n",
    "        return 0\n",
    "\n",
    "    return climbingStairs(n, i + 1) + climbingStairs(n, i + 2)\n",
    "    "
   ]
  },
  {
   "cell_type": "code",
   "execution_count": 39,
   "id": "21f019c7-f61f-47b2-bf6d-03da58c4b658",
   "metadata": {},
   "outputs": [
    {
     "data": {
      "text/plain": [
       "8"
      ]
     },
     "execution_count": 39,
     "metadata": {},
     "output_type": "execute_result"
    }
   ],
   "source": [
    "climbingStairs(5)"
   ]
  },
  {
   "cell_type": "markdown",
   "id": "20c9f4ed-2e86-40f8-9867-75808887522b",
   "metadata": {},
   "source": [
    "## Dynamic Programming using two variables only\n"
   ]
  },
  {
   "cell_type": "code",
   "execution_count": 42,
   "id": "730b3988-4046-4bf7-a014-a711b6e5be63",
   "metadata": {},
   "outputs": [],
   "source": [
    "def climbingStairsD(n):\n",
    "    one, two = 1, 1\n",
    "\n",
    "    for i in range(n - 1):\n",
    "        temp = one\n",
    "        one = one + two\n",
    "        two = temp\n",
    "    return one\n",
    "        "
   ]
  },
  {
   "cell_type": "code",
   "execution_count": 44,
   "id": "22dde518-5381-4a9c-83dc-d0301369d535",
   "metadata": {},
   "outputs": [
    {
     "data": {
      "text/plain": [
       "8"
      ]
     },
     "execution_count": 44,
     "metadata": {},
     "output_type": "execute_result"
    }
   ],
   "source": [
    "climbingStairsD(5)"
   ]
  },
  {
   "cell_type": "markdown",
   "id": "6fad3922-ff61-4c96-9be8-c73ce9dfc353",
   "metadata": {},
   "source": [
    "## Dynamic Programming using Memoization"
   ]
  },
  {
   "cell_type": "code",
   "execution_count": null,
   "id": "f3ce75c7-c9ab-4b30-9aab-0fd3e5c1f46d",
   "metadata": {},
   "outputs": [],
   "source": [
    "# own way of answering but this is slow and many memeries are used"
   ]
  },
  {
   "cell_type": "code",
   "execution_count": 73,
   "id": "d5cc91e0-012d-4bd5-8345-cfabd97d8efe",
   "metadata": {},
   "outputs": [],
   "source": [
    "def climbingStairsM(n, i = 0):\n",
    "    memo = {}\n",
    "    \n",
    "    if i == n:\n",
    "        return 1\n",
    "    if i > n:\n",
    "        return 0\n",
    "\n",
    "    try:\n",
    "        return memo[i]\n",
    "        \n",
    "    except KeyError:\n",
    "        answer = climbingStairsM(n, i + 1) + climbingStairsM(n, i + 2)\n",
    "        memo[i] = answer\n",
    "        return memo[i]"
   ]
  },
  {
   "cell_type": "code",
   "execution_count": 75,
   "id": "795d4882-685e-4606-916f-09e3e5be288c",
   "metadata": {},
   "outputs": [
    {
     "data": {
      "text/plain": [
       "3"
      ]
     },
     "execution_count": 75,
     "metadata": {},
     "output_type": "execute_result"
    }
   ],
   "source": [
    "climbingStairsM(3)"
   ]
  }
 ],
 "metadata": {
  "kernelspec": {
   "display_name": "Python [conda env:base] *",
   "language": "python",
   "name": "conda-base-py"
  },
  "language_info": {
   "codemirror_mode": {
    "name": "ipython",
    "version": 3
   },
   "file_extension": ".py",
   "mimetype": "text/x-python",
   "name": "python",
   "nbconvert_exporter": "python",
   "pygments_lexer": "ipython3",
   "version": "3.12.7"
  }
 },
 "nbformat": 4,
 "nbformat_minor": 5
}
