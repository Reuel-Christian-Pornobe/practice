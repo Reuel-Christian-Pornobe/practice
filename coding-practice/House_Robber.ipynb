{
 "cells": [
  {
   "cell_type": "markdown",
   "id": "6c649f61-67ac-4776-bbd9-ee2002df9824",
   "metadata": {},
   "source": [
    "You are given an integer array nums where nums[i] represents the amount of money the ith house has. The houses are arranged in a straight line, i.e. the ith house is the neighbor of the (i-1)th and (i+1)th house.\n",
    "\n",
    "You are planning to rob money from the houses, but you cannot rob two adjacent houses because the security system will automatically alert the police if two adjacent houses were both broken into.\n",
    "\n",
    "Return the maximum amount of money you can rob without alerting the police.\n"
   ]
  },
  {
   "cell_type": "markdown",
   "id": "f07591fe-5b66-4839-8276-7d378b071e4e",
   "metadata": {},
   "source": [
    "Example 1:\n",
    "\n",
    "Input: nums = [1,1,3,3]\n",
    "\n",
    "Output: 4"
   ]
  },
  {
   "cell_type": "code",
   "execution_count": 9,
   "id": "a2d6d8c2-dcc1-40b5-8872-1be4dbbf9bff",
   "metadata": {},
   "outputs": [],
   "source": [
    "def rob(nums) -> int:\n",
    "    rob1, rob2 = 0, 0\n",
    "\n",
    "    for n in nums:\n",
    "        temp = max(n + rob1, rob2)\n",
    "        rob1 = rob2\n",
    "        rob2 = temp \n",
    "    return rob2\n",
    "    "
   ]
  },
  {
   "cell_type": "code",
   "execution_count": null,
   "id": "c7645026-7761-470d-a2b7-d02e167793d7",
   "metadata": {},
   "outputs": [],
   "source": []
  }
 ],
 "metadata": {
  "kernelspec": {
   "display_name": "Python [conda env:base] *",
   "language": "python",
   "name": "conda-base-py"
  },
  "language_info": {
   "codemirror_mode": {
    "name": "ipython",
    "version": 3
   },
   "file_extension": ".py",
   "mimetype": "text/x-python",
   "name": "python",
   "nbconvert_exporter": "python",
   "pygments_lexer": "ipython3",
   "version": "3.12.7"
  }
 },
 "nbformat": 4,
 "nbformat_minor": 5
}
