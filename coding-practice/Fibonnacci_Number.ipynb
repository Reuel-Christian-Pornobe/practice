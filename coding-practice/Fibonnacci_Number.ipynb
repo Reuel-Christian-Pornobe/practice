{
 "cells": [
  {
   "cell_type": "markdown",
   "id": "a04feb74-6561-4a32-818a-1b6c51d6ae35",
   "metadata": {},
   "source": [
    "### Recursive\n"
   ]
  },
  {
   "cell_type": "code",
   "execution_count": 5,
   "id": "df0735b1-6772-45b3-9771-5b32e1cb19f1",
   "metadata": {},
   "outputs": [],
   "source": [
    "def fib(n):\n",
    "    # Base case\n",
    "    if n == 0:\n",
    "        return 0\n",
    "    if n == 1:\n",
    "        return 1\n",
    "        \n",
    "    # Recursive case\n",
    "    return fib(n-1) + fib(n-2)"
   ]
  },
  {
   "cell_type": "code",
   "execution_count": 7,
   "id": "0842d578-09a5-466c-bce3-85546efa9327",
   "metadata": {},
   "outputs": [
    {
     "data": {
      "text/plain": [
       "2"
      ]
     },
     "execution_count": 7,
     "metadata": {},
     "output_type": "execute_result"
    }
   ],
   "source": [
    "fib(3)"
   ]
  },
  {
   "cell_type": "markdown",
   "id": "c35b1bd3-2081-47a8-89b1-b6b37157a54c",
   "metadata": {},
   "source": [
    "### Dynamic Programming"
   ]
  },
  {
   "cell_type": "code",
   "execution_count": null,
   "id": "00fd5376-5ee7-45c8-a259-c3934ba96aec",
   "metadata": {},
   "outputs": [],
   "source": []
  }
 ],
 "metadata": {
  "kernelspec": {
   "display_name": "Python [conda env:base] *",
   "language": "python",
   "name": "conda-base-py"
  },
  "language_info": {
   "codemirror_mode": {
    "name": "ipython",
    "version": 3
   },
   "file_extension": ".py",
   "mimetype": "text/x-python",
   "name": "python",
   "nbconvert_exporter": "python",
   "pygments_lexer": "ipython3",
   "version": "3.12.7"
  }
 },
 "nbformat": 4,
 "nbformat_minor": 5
}
