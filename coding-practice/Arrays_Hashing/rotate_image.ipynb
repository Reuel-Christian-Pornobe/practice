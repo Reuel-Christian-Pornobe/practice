{
 "cells": [
  {
   "cell_type": "code",
   "execution_count": 69,
   "id": "ee877914-b7cf-4887-9f4d-c01e0cf8e98e",
   "metadata": {},
   "outputs": [],
   "source": [
    "def rotate(matrix):\n",
    "    left, right = 0, len(matrix) -1 \n",
    "\n",
    "    while left < right:\n",
    "        for i in range(right - left):\n",
    "            top, bottom = left, right\n",
    "    \n",
    "            # save the top left \n",
    "            topLeft = matrix[top][left + i]\n",
    "    \n",
    "            # move the bottom left to top left\n",
    "            matrix[top][left + i] = matrix[bottom - i][left]\n",
    "    \n",
    "            # move the bottom right to bottom left\n",
    "            matrix[bottom - i][left] = matrix[bottom][right - i]\n",
    "    \n",
    "            # move the top right to bottom right\n",
    "            matrix[bottom][right - i] = matrix[top + i][right]\n",
    "            \n",
    "            # move the top left\n",
    "            matrix[top + i][right] = topLeft\n",
    "\n",
    "        left += 1\n",
    "        right -= 1\n",
    "\n",
    "        return matrix\n",
    "    "
   ]
  },
  {
   "cell_type": "code",
   "execution_count": 71,
   "id": "bf053147-f840-46c6-b428-b929309ad9cd",
   "metadata": {},
   "outputs": [],
   "source": [
    "matrix = [\n",
    "  [1,2,3],\n",
    "  [4,5,6],\n",
    "  [7,8,9]\n",
    "]"
   ]
  },
  {
   "cell_type": "code",
   "execution_count": 73,
   "id": "a2d1ded4-3174-4cdc-9c6d-6b44459af0b4",
   "metadata": {},
   "outputs": [
    {
     "data": {
      "text/plain": [
       "[[7, 4, 1], [8, 5, 2], [9, 6, 3]]"
      ]
     },
     "execution_count": 73,
     "metadata": {},
     "output_type": "execute_result"
    }
   ],
   "source": [
    "rotate(matrix)"
   ]
  },
  {
   "cell_type": "code",
   "execution_count": null,
   "id": "c4038247-b1bc-4bc0-8069-8d012d06120f",
   "metadata": {},
   "outputs": [],
   "source": []
  }
 ],
 "metadata": {
  "kernelspec": {
   "display_name": "Python [conda env:base] *",
   "language": "python",
   "name": "conda-base-py"
  },
  "language_info": {
   "codemirror_mode": {
    "name": "ipython",
    "version": 3
   },
   "file_extension": ".py",
   "mimetype": "text/x-python",
   "name": "python",
   "nbconvert_exporter": "python",
   "pygments_lexer": "ipython3",
   "version": "3.12.7"
  }
 },
 "nbformat": 4,
 "nbformat_minor": 5
}
