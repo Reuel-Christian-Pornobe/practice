{
 "cells": [
  {
   "cell_type": "markdown",
   "id": "019a06dd-1e17-4023-8dc9-f6fafb321932",
   "metadata": {},
   "source": [
    "Valid Anagram\n",
    "Given two strings s and t, return true if the two strings are anagrams of each other, otherwise return false.\n",
    "\n",
    "An anagram is a string that contains the exact same characters as another string, but the order of the characters can be different.\n",
    "\n",
    "Example 1:\n",
    "\n",
    "Input: s = \"racecar\", t = \"carrace\"\n",
    "\n",
    "Output: true\n",
    "Example 2:\n",
    "\n",
    "Input: s = \"jar\", t = \"jam\"\n",
    "\n",
    "Output: false\n",
    "Constraints:\n",
    "\n",
    "s and t consist of lowercase English letters."
   ]
  },
  {
   "cell_type": "markdown",
   "id": "9f013941-c9b7-46c5-8a2a-aba2fd422ea5",
   "metadata": {},
   "source": [
    "## My own way of solving"
   ]
  },
  {
   "cell_type": "code",
   "execution_count": 75,
   "id": "1d13e46e-bd3c-4cac-86ec-2a26905df585",
   "metadata": {},
   "outputs": [],
   "source": [
    "class Solution:\n",
    "    def isAnagram(self, s: str, t: str) -> bool:\n",
    "        memoS = {}\n",
    "        memoT = {}\n",
    "        if len(s) != len(t):\n",
    "            return False\n",
    "            \n",
    "        for i in s:\n",
    "            if i in memoS:\n",
    "                memoS[i] += 1\n",
    "            else:\n",
    "                memoS[i] = 1\n",
    "\n",
    "        for i in t:\n",
    "            if i in memoT:\n",
    "                memoT[i] += 1\n",
    "            else:\n",
    "                memoT[i] = 1\n",
    "\n",
    "        for count in memoS:\n",
    "            try:\n",
    "                if memoS[count] != memoT[count]:\n",
    "                    return False\n",
    "            except KeyError:                         # if they do not have the same letter\n",
    "                return False\n",
    "\n",
    "        return True\n",
    "                \n",
    "        "
   ]
  },
  {
   "cell_type": "code",
   "execution_count": 77,
   "id": "8780bfb1-4cdb-4e3d-b726-aa1edca53472",
   "metadata": {},
   "outputs": [],
   "source": [
    "s = \"racecar\"\n",
    "t = \"carrace\"\n"
   ]
  },
  {
   "cell_type": "code",
   "execution_count": 79,
   "id": "c864d1b1-5ffd-4141-829c-854f0199ecd2",
   "metadata": {},
   "outputs": [
    {
     "data": {
      "text/plain": [
       "True"
      ]
     },
     "execution_count": 79,
     "metadata": {},
     "output_type": "execute_result"
    }
   ],
   "source": [
    "Solution().isAnagram(s, t)"
   ]
  },
  {
   "cell_type": "code",
   "execution_count": 81,
   "id": "d2cabbb8-44a6-4c4e-ace2-31d1910be04f",
   "metadata": {},
   "outputs": [],
   "source": [
    "s=\"jar\"\n",
    "t=\"jam\""
   ]
  },
  {
   "cell_type": "code",
   "execution_count": 83,
   "id": "f40e482b-8489-41f9-ab9a-35bbbc0518d5",
   "metadata": {},
   "outputs": [
    {
     "data": {
      "text/plain": [
       "False"
      ]
     },
     "execution_count": 83,
     "metadata": {},
     "output_type": "execute_result"
    }
   ],
   "source": [
    "Solution().isAnagram(s, t)"
   ]
  },
  {
   "cell_type": "markdown",
   "id": "61422811-ee1b-4b74-8821-2621a8c2a725",
   "metadata": {},
   "source": [
    "## Solution 1"
   ]
  },
  {
   "cell_type": "code",
   "execution_count": 86,
   "id": "174a1e46-5d13-43d4-8165-8a589cf97f5a",
   "metadata": {},
   "outputs": [],
   "source": [
    "class Solution:\n",
    "    def isAnagram(self, s: str, t: str) -> bool:\n",
    "        if len(s) != len(t):\n",
    "            return False\n",
    "\n",
    "        countS, countT = {}, {}\n",
    "\n",
    "        for i in range(len(s)):                      #get the key each iteration to keep atting\n",
    "            countS[s[i]] = 1 + countS.get(s[i], 0)\n",
    "            countT[t[i]] = 1 + countT.get(t[i], 0)\n",
    "\n",
    "        for c in countS:\n",
    "            if countS[c] != countT.get(c,0):\n",
    "                return False\n",
    "\n",
    "        return True"
   ]
  },
  {
   "cell_type": "code",
   "execution_count": 88,
   "id": "b3eefbe9-4373-40ba-802c-670e4f42c532",
   "metadata": {},
   "outputs": [
    {
     "data": {
      "text/plain": [
       "True"
      ]
     },
     "execution_count": 88,
     "metadata": {},
     "output_type": "execute_result"
    }
   ],
   "source": [
    "s = \"racecar\"\n",
    "t = \"carrace\"\n",
    "Solution().isAnagram(s, t)"
   ]
  },
  {
   "cell_type": "code",
   "execution_count": null,
   "id": "445c6dee-1358-4499-b85b-f5eb9eb7bae1",
   "metadata": {},
   "outputs": [],
   "source": []
  }
 ],
 "metadata": {
  "kernelspec": {
   "display_name": "Python [conda env:base] *",
   "language": "python",
   "name": "conda-base-py"
  },
  "language_info": {
   "codemirror_mode": {
    "name": "ipython",
    "version": 3
   },
   "file_extension": ".py",
   "mimetype": "text/x-python",
   "name": "python",
   "nbconvert_exporter": "python",
   "pygments_lexer": "ipython3",
   "version": "3.12.7"
  }
 },
 "nbformat": 4,
 "nbformat_minor": 5
}
