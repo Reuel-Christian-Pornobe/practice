{
  "nbformat": 4,
  "nbformat_minor": 0,
  "metadata": {
    "colab": {
      "provenance": []
    },
    "kernelspec": {
      "name": "python3",
      "display_name": "Python 3"
    },
    "language_info": {
      "name": "python"
    }
  },
  "cells": [
    {
      "cell_type": "markdown",
      "source": [
        "# **Stacks**"
      ],
      "metadata": {
        "id": "mycqHsU9QJhS"
      }
    },
    {
      "cell_type": "markdown",
      "source": [
        "## Valid Parentheses"
      ],
      "metadata": {
        "id": "RtSuEWLnQe7B"
      }
    },
    {
      "cell_type": "markdown",
      "source": [
        "You are given a string s consisting of the following characters: '(', ')', '{', '}', '[' and ']'. The input string s is valid if and only if:\n",
        "Every open bracket is closed by the same type of close bracket.\n",
        "Open brackets are closed in the correct order.\n",
        "Every close bracket has a corresponding open bracket of the same type.\n",
        "Return true if s is a valid string, and false otherwise."
      ],
      "metadata": {
        "id": "SszwSrktQ7yB"
      }
    },
    {
      "cell_type": "code",
      "source": [
        "def isValid(s):\n",
        "    stack = []\n",
        "    closeToOpen = {\")\":\"(\", \"}\":\"{\", \"]\":\"[\"}\n",
        "\n",
        "    for i in s:\n",
        "        if i in closeToOpen:\n",
        "            if stack and stack[-1] == closeToOpen[i]:\n",
        "                stack.pop\n",
        "            else:\n",
        "                return False\n",
        "\n",
        "        else:\n",
        "            stack.append(i)\n",
        "\n",
        "    return True if not stack else True\n",
        "\n",
        "isValid(\"[]\")\n"
      ],
      "metadata": {
        "id": "QByAGNMbQJCp",
        "colab": {
          "base_uri": "https://localhost:8080/"
        },
        "outputId": "b7261938-94ae-4898-d3d2-329c003ae913"
      },
      "execution_count": null,
      "outputs": [
        {
          "output_type": "execute_result",
          "data": {
            "text/plain": [
              "True"
            ]
          },
          "metadata": {},
          "execution_count": 16
        }
      ]
    },
    {
      "cell_type": "markdown",
      "source": [
        "\n",
        "\n",
        "---\n",
        "\n"
      ],
      "metadata": {
        "id": "SZmgPWJPQ38p"
      }
    },
    {
      "cell_type": "markdown",
      "source": [
        "# **2 POINTERS**"
      ],
      "metadata": {
        "id": "i11nQ6j__JHY"
      }
    },
    {
      "cell_type": "markdown",
      "source": [
        "## Squares of a Sorted Array"
      ],
      "metadata": {
        "id": "NTtgtVT_Qjcp"
      }
    },
    {
      "cell_type": "code",
      "source": [
        "# Squares of a Sorted Array\n",
        "def sumSquares(nums):\n",
        "\n",
        "    l, r = 0, len(nums) - 1\n",
        "    result = []\n",
        "\n",
        "    while l <= r:\n",
        "        if (nums[l] ** 2) > (nums[r] ** 2):\n",
        "            result.append(nums[l] ** 2)\n",
        "            l += 1\n",
        "\n",
        "        else:\n",
        "            result.append(nums[r] ** 2)\n",
        "            r -= 1\n",
        "\n",
        "    result.reverse()\n",
        "    return result\n",
        "\n",
        "\n"
      ],
      "metadata": {
        "id": "Uc8ZGyJv_I1s"
      },
      "execution_count": null,
      "outputs": []
    },
    {
      "cell_type": "code",
      "source": [
        "nums = [-4, -1, 0, 3, 10]\n",
        "sumSquares(nums)"
      ],
      "metadata": {
        "colab": {
          "base_uri": "https://localhost:8080/"
        },
        "id": "JDCg0sSl_qZQ",
        "outputId": "bc585692-a751-496a-c46c-bf25b8719e86"
      },
      "execution_count": null,
      "outputs": [
        {
          "output_type": "execute_result",
          "data": {
            "text/plain": [
              "[0, 1, 9, 16, 100]"
            ]
          },
          "metadata": {},
          "execution_count": 17
        }
      ]
    },
    {
      "cell_type": "markdown",
      "source": [
        "\n",
        "\n",
        "---\n",
        "\n",
        "\n"
      ],
      "metadata": {
        "id": "vyP5P3NPDHGx"
      }
    },
    {
      "cell_type": "markdown",
      "source": [
        "Given a string s, return true if it is a palindrome, otherwise return false.\n",
        "\n",
        "A palindrome is a string that reads the same forward and backward. It is also case-insensitive and ignores all non-alphanumeric characters."
      ],
      "metadata": {
        "id": "sskvqtJbC5ex"
      }
    },
    {
      "cell_type": "code",
      "source": [
        "\"\"\"First try code on my own. I think it is not efficent because I have to sort the\n",
        "    string instead of doing the comparing immediately.\n",
        "\"\"\"\n",
        "\n",
        "\n",
        "def isPalindrome(s: str) -> bool:\n",
        "    string = \"\"\n",
        "\n",
        "    for i in s:                          # for converting a string into a string with only alphanumeric and no spaces\n",
        "        if i.isalnum() and i != \" \":\n",
        "            string += i.lower()\n",
        "\n",
        "    l, r = 0, len(string) - 1            # for two pointer algorithm\n",
        "\n",
        "    while l <= r:\n",
        "\n",
        "        if string[l] != string[r]:\n",
        "            return False\n",
        "\n",
        "        l += 1\n",
        "        r -= 1\n",
        "    return True\n",
        "\n"
      ],
      "metadata": {
        "id": "Pb1feBjhC4fD"
      },
      "execution_count": null,
      "outputs": []
    },
    {
      "cell_type": "code",
      "source": [
        "s = \"Was it a car or a cat I saw?\"\n",
        "isPalindrome(s)"
      ],
      "metadata": {
        "colab": {
          "base_uri": "https://localhost:8080/"
        },
        "id": "HzXRBY1UEi_K",
        "outputId": "5876ea3c-ba60-4d5f-87ce-bcfb09670644"
      },
      "execution_count": null,
      "outputs": [
        {
          "output_type": "execute_result",
          "data": {
            "text/plain": [
              "True"
            ]
          },
          "metadata": {},
          "execution_count": 36
        }
      ]
    },
    {
      "cell_type": "code",
      "source": [
        "# a code made by NeetCode using a two-pointer array\n",
        "\n",
        "def isPalindrome( s: str) -> bool:\n",
        "        l, r = 0, len(s) - 1\n",
        "\n",
        "        while l < r:\n",
        "            while l < r and not alphaNum(s[l]):\n",
        "                l += 1\n",
        "            while r > l and not alphaNum(s[r]):\n",
        "                r -= 1\n",
        "            if s[l].lower() != s[r].lower():\n",
        "                return False\n",
        "            l, r = l + 1, r - 1\n",
        "        return True\n",
        "\n",
        "def alphaNum(c):                                # manually create a isalnum\n",
        "    return (ord('A') <= ord(c) <= ord('Z') or\n",
        "            ord('a') <= ord(c) <= ord('z') or\n",
        "            ord('0') <= ord(c) <= ord('9'))\n",
        "\n"
      ],
      "metadata": {
        "id": "FlXu_8cBHwZd"
      },
      "execution_count": null,
      "outputs": []
    },
    {
      "cell_type": "code",
      "source": [
        "s = \"Was it a car or a cat I saw?\"\n",
        "isPalindrome(s)"
      ],
      "metadata": {
        "colab": {
          "base_uri": "https://localhost:8080/"
        },
        "id": "5cpKMXiaLM_x",
        "outputId": "df66780b-7648-4ad7-da8e-e0635ff2ba04"
      },
      "execution_count": null,
      "outputs": [
        {
          "output_type": "execute_result",
          "data": {
            "text/plain": [
              "True"
            ]
          },
          "metadata": {},
          "execution_count": 46
        }
      ]
    },
    {
      "cell_type": "markdown",
      "source": [
        "\n",
        "\n",
        "---\n",
        "\n"
      ],
      "metadata": {
        "id": "0AL-PN0fQwsZ"
      }
    },
    {
      "cell_type": "markdown",
      "source": [
        "# **Binary Search**\n"
      ],
      "metadata": {
        "id": "NsjEX20a3bFU"
      }
    },
    {
      "cell_type": "code",
      "execution_count": null,
      "metadata": {
        "colab": {
          "base_uri": "https://localhost:8080/"
        },
        "id": "PmdClRmX2cT9",
        "outputId": "e6efc59c-709b-4ca2-ce2b-d5f97f3323e6"
      },
      "outputs": [
        {
          "output_type": "execute_result",
          "data": {
            "text/plain": [
              "5"
            ]
          },
          "metadata": {},
          "execution_count": 19
        }
      ],
      "source": [
        "# Works only on sorted lists/arrays\n",
        "array = [-1,0,3,5,9,12]\n",
        "\n",
        "def binarySearch(array: list[int], target: int) -> int:\n",
        "\n",
        "    l, r = 0, len(array) - 1        # L starts at the start of the array while R starts at the end of the arry\n",
        "\n",
        "    while l <= r:\n",
        "        m = (l + r) // 2\n",
        "\n",
        "        if array[m] > target:\n",
        "            r = m - 1                # [-1,0,3,5,9,12] If array[m] is greater than target then start R becomes 0 --> [-1, 0]\n",
        "                                     #   L   M      R                                                                  L   R\n",
        "\n",
        "        elif array[m] < target:\n",
        "            l = m + 1                # [-1,0,3,5,9,12] If array[m] is less than target then start L becomes 5 --> [5, 9, 12]\n",
        "                                     #   L   M      R                                                               L     R\n",
        "\n",
        "        else:\n",
        "            return m                 # if array[m] is not less than or greater than target then array[m] is equal to target\n",
        "\n",
        "    return -1                        # return error if target cannot be find in the array\n",
        "                                     # note: it will return an error because it will keep adding or subtracting L/R depending on the target until the while loop is broken\n",
        "\n",
        "binarySearch(array, 12)"
      ]
    },
    {
      "cell_type": "markdown",
      "source": [
        "\n",
        "\n",
        "---\n",
        "\n"
      ],
      "metadata": {
        "id": "XYbFXpxEDLqB"
      }
    },
    {
      "cell_type": "markdown",
      "source": [
        "## Search a 2D Matrix"
      ],
      "metadata": {
        "id": "RZiQrOHLHtYD"
      }
    },
    {
      "cell_type": "markdown",
      "source": [
        "You are given an m x n 2-D integer array matrix and an integer target.\n",
        "\n",
        "Each row in matrix is sorted in non-decreasing order.\n",
        "The first integer of every row is greater than the last integer of the previous row.\n",
        "Return true if target exists within matrix or false otherwise.\n",
        "\n",
        "Can you write a solution that runs in O(log(m * n)) time?"
      ],
      "metadata": {
        "id": "0msbGizZH9Z7"
      }
    },
    {
      "cell_type": "code",
      "source": [
        "'''First try, got an error where I cannot iterate to another row.\n",
        "The best approach was actually using for loop to iterate through the row\n",
        "using nested for loop or a \"while loop inside a for loop.\" It was bad practice\n",
        "to change the value of the row inside the binary search.\n",
        "'''\n",
        "\n",
        "def searchMatrix(matrix: list[list[int]], target: int) -> bool:\n",
        "    l, r, n = 0, len(matrix[0]) - 1, 0                         # let l be the start of a column and r be the end of a column\n",
        "                                                                          # let n be the row number\n",
        "    rowLimit = len([i[0] for i in matrix])                     # for iterating the rows through matrix\n",
        "\n",
        "    while l <= r and n != rowLimit:\n",
        "        m = (l + r) // 2\n",
        "\n",
        "        if matrix[n][m] > target:\n",
        "            r = m - 1\n",
        "\n",
        "        elif matrix[n][m] < target:\n",
        "            l = m + 1\n",
        "\n",
        "        elif matrix[n][m] == target:\n",
        "            return f\"Answer: Row = {n} and column {m}\"\n",
        "\n",
        "        elif l > r:\n",
        "            n += 1\n",
        "            l, r = 0, len(matrix[0])-1\n",
        "\n",
        "    return f\"error row = {n}, column = {m}\"\n",
        "\n"
      ],
      "metadata": {
        "id": "crf5r9qXEfEy"
      },
      "execution_count": null,
      "outputs": []
    },
    {
      "cell_type": "code",
      "source": [
        "matrix = [[1,2,4,8],[10,11,12,13],[14,20,30,40]]\n",
        "target = 10\n",
        "searchMatrix(matrix, target)\n"
      ],
      "metadata": {
        "colab": {
          "base_uri": "https://localhost:8080/",
          "height": 35
        },
        "id": "TcobQHUeRnig",
        "outputId": "f3f22cc9-e6e2-4da5-83e8-831a241c8982"
      },
      "execution_count": null,
      "outputs": [
        {
          "output_type": "execute_result",
          "data": {
            "text/plain": [
              "'error row = 0, column = 3'"
            ],
            "application/vnd.google.colaboratory.intrinsic+json": {
              "type": "string"
            }
          },
          "metadata": {},
          "execution_count": 97
        }
      ]
    },
    {
      "cell_type": "code",
      "source": [
        "def searchMatrix(matrix: list[list[int]], target: int) -> bool:\n",
        "\n",
        "    for n in range(len(matrix)):                          # let n be the row number. n will iterate through (0 up to the length of the matrix - 1)\n",
        "        l, r= 0, len(matrix[0]) - 1                       # let l be the start of a column and r be the end of a column\n",
        "\n",
        "        while l <= r:\n",
        "            m = (l + r) // 2\n",
        "\n",
        "            if matrix[n][m] > target:\n",
        "                r = m - 1\n",
        "\n",
        "            elif matrix[n][m] < target:\n",
        "                l = m + 1\n",
        "\n",
        "            elif matrix[n][m] == target:\n",
        "                return f\"Answer: Row = {n} and column {m}\"\n",
        "\n",
        "\n",
        "    return f\"error row = {n}, column = {m}\""
      ],
      "metadata": {
        "id": "7_0gd-hBYUys"
      },
      "execution_count": null,
      "outputs": []
    },
    {
      "cell_type": "code",
      "source": [
        "matrix = [[1,2,4,8],[10,11,12,13],[14,20,30,40]]\n",
        "target = 10\n",
        "searchMatrix(matrix, target)\n"
      ],
      "metadata": {
        "colab": {
          "base_uri": "https://localhost:8080/",
          "height": 35
        },
        "id": "mRtB5rqUYxed",
        "outputId": "20642b14-ed77-4c16-8516-cef99de2ed95"
      },
      "execution_count": null,
      "outputs": [
        {
          "output_type": "execute_result",
          "data": {
            "text/plain": [
              "'Answer: Row = 1 and column 0'"
            ],
            "application/vnd.google.colaboratory.intrinsic+json": {
              "type": "string"
            }
          },
          "metadata": {},
          "execution_count": 99
        }
      ]
    },
    {
      "cell_type": "code",
      "source": [
        "class Solution:\n",
        "    def searchMatrix(self, matrix: List[List[int]], target: int) -> bool:\n",
        "\n",
        "        for n in range(len(matrix)):\n",
        "            l, r = 0, len(matrix[0]) - 1\n",
        "\n",
        "            while l <= r:\n",
        "                if array[n][m] < target:\n",
        "                    l = m + 1\n",
        "                elif array[n][m] > target:\n",
        "                    r = m - 1\n",
        "\n",
        "                else:\n",
        "                    return True\n",
        "        return False\n"
      ],
      "metadata": {
        "id": "6-OQT5oia_a-"
      },
      "execution_count": null,
      "outputs": []
    },
    {
      "cell_type": "markdown",
      "source": [
        "\n",
        "\n",
        "---\n",
        "\n"
      ],
      "metadata": {
        "id": "oRTFg8NxDR16"
      }
    },
    {
      "cell_type": "markdown",
      "source": [
        "# **Linked-Lists**"
      ],
      "metadata": {
        "id": "BMJClAfUQz9x"
      }
    },
    {
      "cell_type": "markdown",
      "source": [
        "singly-linked list"
      ],
      "metadata": {
        "id": "OrTT6bAKftWM"
      }
    },
    {
      "cell_type": "code",
      "source": [
        "class ListNode():\n",
        "    def __init__(self, val, nextNode = None):\n",
        "        self.val = val\n",
        "        self.next = nextNode\n",
        "\n",
        "\n",
        "class LinkedList():\n",
        "\n",
        "    def __init__(self):\n",
        "        # Dummy node\n",
        "        self.head = ListNode(-1)\n",
        "        self.tail = self.head\n",
        "\n",
        "\n",
        "    def get(self, index: int) -> int:\n",
        "        curr = self.head.next\n",
        "        i = 0\n",
        "        while curr:\n",
        "            if i == index:\n",
        "                return curr.val\n",
        "            i += 1\n",
        "            curr = curr.next\n",
        "        return -1 # index out of bounds\n",
        "\n",
        "\n",
        "    def insertHead(self, val: int) -> None:\n",
        "        newNode = ListNode(val)\n",
        "        newNode.next = self.head.next\n",
        "        self.head.next = newNode\n",
        "        if not newNode.next:\n",
        "            # if the linked-list is empty\n",
        "            self.tail = newNode\n",
        "\n",
        "\n",
        "    def insertTail(self, val: int) -> None:\n",
        "        self.tail.next = ListNode(val)\n",
        "        self.tail = self.tail.next\n",
        "\n",
        "\n",
        "    def remove(self, index: int) -> bool:\n",
        "        i = 0\n",
        "        curr = self.head\n",
        "        while i < index and curr:\n",
        "            # Move curr before target node\n",
        "            i += 1\n",
        "\n",
        "            curr = curr.next\n",
        "\n",
        "        if curr and curr.next:\n",
        "            if curr.next == self.tail:\n",
        "                self.tail = curr\n",
        "\n",
        "            curr.next = curr.next.next\n",
        "            return True\n",
        "        return False\n",
        "\n",
        "\n",
        "    def getValues(self) -> list[int]:\n",
        "        curr = self.head.next\n",
        "        res = []\n",
        "        while curr:\n",
        "            self.append(curr.val)\n",
        "            curr = curr.next\n",
        "        return res\n"
      ],
      "metadata": {
        "id": "2rVFCM5cf3qH"
      },
      "execution_count": null,
      "outputs": []
    },
    {
      "cell_type": "code",
      "source": [
        "class ListNode:\n",
        "    def __init__(self, val, next_node = None):           # for initalizing a node\n",
        "        self.val = val\n",
        "        self.next = next_node\n",
        "\n",
        "class LinkedList:\n",
        "\n",
        "    def __init(self):\n",
        "            self.head = ListNode(-1)\n",
        "            self.tail = self.head\n",
        "\n",
        "    def get(self, index: int) -> int:\n",
        "        curr = self.head.next           # to skip the dummy node which is ListNode(-1)\n",
        "        i = 0\n",
        "\n",
        "        while curr:\n",
        "            if i == index:\n",
        "                return curr.val\n",
        "            i += 1\n",
        "            curr = curr.next\n",
        "        return -1 #index out of bounds\n",
        "\n",
        "    def insertHead(self, val: int) -> None:\n",
        "        new_node = ListNode(val)\n",
        "        new_node.next = self.head.next               # to connect the new head to the old head    0 ----->  O  -------->  O ------->  O\n",
        "                                                     #                                        new head     old head                   Tail\n",
        "        self.head.next = new_node                    # to make the new head the official head of the linked list\n",
        "        if not new_node.next:                        # if the linkedlist is empty, make the tail equals to the new_node\n",
        "            self.tail = new_node\n",
        "\n",
        "    def insertTail(self, val: int) -> None:\n",
        "        self.tail.next = ListNode(val)              # to connect the new tail to the old tail    O ----->  O  -------->  O ------->  O  --------> 0\n",
        "        self.tail = self.tail.next                  #                                            head                           Old Tail       New Tail\n",
        "\n",
        "\n",
        "    def remove(self, index: int) -> bool:\n",
        "        i = 0\n",
        "        curr = self.head\n",
        "        while i < index and curr:                   # go to the node before the target node\n",
        "            # Move curr to node before target node\n",
        "            i += 1\n",
        "            curr = curr.next\n",
        "\n",
        "        if curr and curr.next:                # if the current node before the target and the target node exists\n",
        "            if curr.next == self.tail:        # if the target node is the tail node, update the new tail\n",
        "                self.tail = curr\n",
        "            curr.next = curr.next.next        # make the target node be overwritten by the next node from it\n",
        "            return True\n",
        "\n",
        "        return False\n",
        "\n",
        "    def getValues(self) -> list[int]:\n",
        "        curr = self.head.next\n",
        "        res = []\n",
        "\n",
        "        while curr:\n",
        "            res.append(curr.val)\n",
        "            curr = curr.next\n",
        "        return res\n",
        "\n"
      ],
      "metadata": {
        "id": "F07WxQLa0OJW"
      },
      "execution_count": null,
      "outputs": []
    },
    {
      "cell_type": "code",
      "source": [
        "class ListNode:\n",
        "\n",
        "    def __init__(self, val, next_node = None):\n",
        "        self.val = val\n",
        "        self.next = next_node\n",
        "\n",
        "class LinkedList:\n",
        "\n",
        "    def __init__(self):\n",
        "        self.head = ListNode(-1)\n",
        "        self.tail = self.head\n",
        "\n",
        "    def get(self, index):\n",
        "        curr = self.head.next\n",
        "        i = 0\n",
        "\n",
        "        while curr:\n",
        "            if i == index:\n",
        "                return curr.val\n",
        "            curr = curr.next\n",
        "\n",
        "    def insertHead(self, val):\n",
        "        new_node = ListNode(val)\n",
        "\n",
        "        new_node.next = self.head.next\n",
        "        self.head.next = new_node\n",
        "\n",
        "        if not new_node.next:\n",
        "            #if list was emppty\n",
        "            self.tail = new_node\n",
        "\n",
        "\n",
        "    def insertTail(self, val):\n",
        "        self.tail.next = ListNode(val)\n",
        "        self.tail = self.tail.next\n",
        "\n",
        "\n",
        "    def remove(self, index):\n",
        "        i = 0\n",
        "        curr = self.head\n",
        "        while i < index and curr:\n",
        "            i += 1\n",
        "            curr = curr.next\n",
        "\n",
        "        if curr and curr.next:\n",
        "            if curr.next == self.tail:\n",
        "                self.tail = curr\n",
        "            curr.next = curr.next.next\n",
        "            return True\n",
        "\n",
        "        return False\n",
        "\n",
        "    def getValues(self):\n",
        "        curr = self.head.next\n",
        "        res = []\n",
        "\n",
        "        while curr:\n",
        "            res.append(curr.val)\n",
        "            curr = curr.next\n",
        "\n",
        "        return res\n",
        "\n"
      ],
      "metadata": {
        "id": "Wo8bQJauHxPA"
      },
      "execution_count": null,
      "outputs": []
    },
    {
      "cell_type": "markdown",
      "source": [
        "Reverse Linked List"
      ],
      "metadata": {
        "id": "y_b6uysh_mXf"
      }
    },
    {
      "cell_type": "code",
      "source": [
        "class Solution:\n",
        "    def reverseList(self, head: ListNode) -> ListNode:\n",
        "        prev, curr = None, head\n",
        "\n",
        "        while curr:\n",
        "            nxt = curr.next #for saving the original curr.next to traverse the linked list\n",
        "            curr.next = prev # reverses the next to previous\n",
        "\n",
        "            prev = curr      # for the traversal to the next nodes\n",
        "            curr = nxt\n",
        "        return prev"
      ],
      "metadata": {
        "id": "hlAawlFv_k2R"
      },
      "execution_count": null,
      "outputs": []
    },
    {
      "cell_type": "markdown",
      "source": [
        "# **Sliding Window**"
      ],
      "metadata": {
        "id": "4cDnwZj3Hytq"
      }
    },
    {
      "cell_type": "markdown",
      "source": [
        "You are given an array prices where prices[i] is the price of a given stock on the ith day.\n",
        "\n",
        "You want to maximize your profit by choosing a single day to buy one stock and choosing a different day in the future to sell that stock.\n",
        "\n",
        "Return the maximum profit you can achieve from this transaction. If you cannot achieve any profit, return 0."
      ],
      "metadata": {
        "id": "v4deOSTzH6BB"
      }
    },
    {
      "cell_type": "code",
      "source": [
        "'''\n",
        "my first try code before the solution. I think my code can still be optimized\n",
        "because I think I used a lot of if elif conditions\n",
        "'''\n",
        "\n",
        "def buyStock(stockList):\n",
        "    maxProfit = 0\n",
        "    l, r = 0, 1                                        #left=buy, right = sell\n",
        "\n",
        "\n",
        "    for i in range(len(stockList) - 1):                   # [I could have used while r < len(stockList)]\n",
        "        if stockList[r] > stockList[l]:                    # find the max profit if price on the day bought a stock (left pointer) is lesser than the price of today (right pointer)\n",
        "                currMax = stockList[r] - stockList[l]\n",
        "                if currMax > maxProfit:                    # [after seeing the solution, it looks like I can use the max function]\n",
        "                    maxProfit = currMax\n",
        "                    day = i + 1\n",
        "            r += 1                                     # check the next day while retaining the left pointer in its position\n",
        "\n",
        "\n",
        "        elif stockList[l] > stockList[r]:                    # if the price is cheaper tomorrow, buy the stock tomorrow then check the next day\n",
        "            l = r\n",
        "            r += 1\n",
        "                                                        #[after seeing the solution it looks like i can simplify by putting the r += 1 outside the if conditions]\n",
        "\n",
        "    return maxProfit, r, day\n",
        "\n",
        "\n",
        "s = [5,1,5,6,7,1,10]\n",
        "buyStock(s)\n",
        "\n"
      ],
      "metadata": {
        "colab": {
          "base_uri": "https://localhost:8080/"
        },
        "id": "QvYKTibtH6bZ",
        "outputId": "4d2de92d-6686-47cd-b7f5-6b8929d47d70"
      },
      "execution_count": null,
      "outputs": [
        {
          "output_type": "execute_result",
          "data": {
            "text/plain": [
              "(9, 7, 6)"
            ]
          },
          "metadata": {},
          "execution_count": 25
        }
      ]
    },
    {
      "cell_type": "code",
      "source": [
        "#Solution from Neetcode\n",
        "def buyStock(prices):\n",
        "    l, r = 0, 1              # left = buy, right = sell\n",
        "    maxP = 0\n",
        "\n",
        "    while r < len(prices):\n",
        "        if prices[l] < prices[r]:\n",
        "            profit = prices[r] - prices[l]\n",
        "            maxP = max(maxP, profit)\n",
        "\n",
        "        else:\n",
        "            l = r\n",
        "        r += 1\n",
        "\n",
        "    return maxP\n",
        "\n",
        "s = [7,1,5,3,6,4]\n",
        "buyStock(s)"
      ],
      "metadata": {
        "colab": {
          "base_uri": "https://localhost:8080/"
        },
        "id": "3oG6he_mSaBV",
        "outputId": "0f3553d6-e604-4ef5-e8a4-44739cfeaeda"
      },
      "execution_count": null,
      "outputs": [
        {
          "output_type": "execute_result",
          "data": {
            "text/plain": [
              "5"
            ]
          },
          "metadata": {},
          "execution_count": 23
        }
      ]
    }
  ]
}