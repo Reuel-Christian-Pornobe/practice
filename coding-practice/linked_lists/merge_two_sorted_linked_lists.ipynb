{
 "cells": [
  {
   "cell_type": "markdown",
   "id": "dfd40c1e-8a7f-4768-95cf-ba4c948b87ab",
   "metadata": {},
   "source": [
    "You are given the heads of two sorted linked lists list1 and list2.\n",
    "\n",
    "Merge the two lists into one sorted linked list and return the head of the new sorted linked list.\n",
    "\n",
    "The new list should be made up of nodes from list1 and list2.\n",
    "\n",
    "Example 1:\n",
    "\n",
    "Input: list1 = [1,2,4], list2 = [1,3,5]\n",
    "\n",
    "Output: [1,1,2,3,4,5]\n"
   ]
  },
  {
   "cell_type": "markdown",
   "id": "8cafd764-0ad5-4cd3-8caa-53797ef3f87d",
   "metadata": {},
   "source": [
    "-------------------------------------------------------------------------------------------------------------------------"
   ]
  },
  {
   "cell_type": "code",
   "execution_count": null,
   "id": "c35619a0-8293-4a79-a5d8-dd7ba5eb2e34",
   "metadata": {},
   "outputs": [],
   "source": [
    "# Definition for singly-linked list.\n",
    "# class ListNode:\n",
    "#     def __init__(self, val=0, next=None):\n",
    "#         self.val = val\n",
    "#         self.next = next"
   ]
  },
  {
   "cell_type": "code",
   "execution_count": null,
   "id": "c8dffaed-f017-433f-b5e0-e49af0de25ee",
   "metadata": {},
   "outputs": [],
   "source": [
    "class Merge:\n",
    "    def __init__(self):\n",
    "        self.head = ListNode(-1) # dummy node\n",
    "        self.tail = self.head\n",
    "    \n",
    "      \n",
    "    def mergeLinkedLists(list1, list2):\n",
    "        # im thinking od using a pointer for each list\n",
    "        # then compare each value in the lists to see which one goes first\n",
    "        \n",
    "        curr = self.head\n",
    "        for i in list1:\n",
    "            for j in list2:\n",
    "                if i == j:\n",
    "                    curr.next = ListNode(i)\n",
    "                    curr = curr.next\n",
    "    \n",
    "                elif i > j:\n",
    "                    curr.next = ListNode(j)\n",
    "                    curr.next.next = ListNode(i)\n",
    "                    curr =  curr.next.next\n",
    "    \n",
    "                elif i < j:\n",
    "                    curr.next = ListNode(i)\n",
    "                    curr.next.next = ListNode(j)\n",
    "                    curr =  curr.next.next\n",
    "                    \n",
    "# first try (not correct)"
   ]
  },
  {
   "cell_type": "markdown",
   "id": "303d8b66-c662-4192-bc63-fbab06938c8f",
   "metadata": {},
   "source": [
    "--------------------------------------"
   ]
  },
  {
   "cell_type": "code",
   "execution_count": 17,
   "id": "5c86774d-9a4e-4700-8f39-d9d350faf9a0",
   "metadata": {},
   "outputs": [],
   "source": [
    "def mergeTwoLists(list1, list2):\n",
    "    dummy = ListNode\n",
    "    tail = dummy\n",
    "\n",
    "    while list1 and list2:\n",
    "        if list1.val < list2.val:\n",
    "            tail.next = list1           # put the list1 node \n",
    "            list1 = list1.next          # update the node to access the next node\n",
    "\n",
    "        else:\n",
    "            tail.next = list2\n",
    "            list2 = list.next\n",
    "\n",
    "        tail = tail.next\n",
    "\n",
    "    \n",
    "    while list1:                         # if only list 1 has still values\n",
    "        tail.next = list1\n",
    "        tail = tail.next\n",
    "\n",
    "    while list2:                            # if only list 2 has still values\n",
    "        tail.next = list2\n",
    "        tail = tail.next\n",
    "\n",
    "    return dummy.next\n",
    "            "
   ]
  }
 ],
 "metadata": {
  "kernelspec": {
   "display_name": "Python [conda env:base] *",
   "language": "python",
   "name": "conda-base-py"
  },
  "language_info": {
   "codemirror_mode": {
    "name": "ipython",
    "version": 3
   },
   "file_extension": ".py",
   "mimetype": "text/x-python",
   "name": "python",
   "nbconvert_exporter": "python",
   "pygments_lexer": "ipython3",
   "version": "3.12.7"
  }
 },
 "nbformat": 4,
 "nbformat_minor": 5
}
