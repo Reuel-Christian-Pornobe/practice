{
 "cells": [
  {
   "cell_type": "markdown",
   "id": "ef66dd27-19d7-40f7-94cb-4acb83922412",
   "metadata": {},
   "source": [
    "Given the beginning of a singly linked list head, reverse the list, and return the new beginning of the list.\n",
    "\n",
    "Example 1:\n",
    "\n",
    "Input: head = [0,1,2,3]\n",
    "\n",
    "Output: [3,2,1,0]"
   ]
  },
  {
   "cell_type": "markdown",
   "id": "9ee5d626-5e0e-45fd-a6eb-e4ad6f4968f9",
   "metadata": {},
   "source": [
    "--------------------"
   ]
  },
  {
   "cell_type": "code",
   "execution_count": 4,
   "id": "8e0d7472-69af-4757-ad43-9cd0d8f68db8",
   "metadata": {},
   "outputs": [],
   "source": [
    "def reverseList(self, head):\n",
    "    l, r = None, head\n",
    "\n",
    "    while r:\n",
    "        temp = r.next\n",
    "        r.next = l\n",
    "        l = r\n",
    "        r = temp\n",
    "\n",
    "    return l\n",
    "        "
   ]
  }
 ],
 "metadata": {
  "kernelspec": {
   "display_name": "Python [conda env:base] *",
   "language": "python",
   "name": "conda-base-py"
  },
  "language_info": {
   "codemirror_mode": {
    "name": "ipython",
    "version": 3
   },
   "file_extension": ".py",
   "mimetype": "text/x-python",
   "name": "python",
   "nbconvert_exporter": "python",
   "pygments_lexer": "ipython3",
   "version": "3.12.7"
  }
 },
 "nbformat": 4,
 "nbformat_minor": 5
}
