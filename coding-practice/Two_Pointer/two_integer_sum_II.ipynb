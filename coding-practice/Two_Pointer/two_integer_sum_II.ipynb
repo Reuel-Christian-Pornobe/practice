{
 "cells": [
  {
   "cell_type": "markdown",
   "id": "d9614ae2-c14a-43d0-9cbb-47d8d9b31c22",
   "metadata": {},
   "source": [
    "Given an array of integers numbers that is sorted in non-decreasing order.\n",
    "\n",
    "Return the indices (1-indexed) of two numbers, [index1, index2], such that they add up to a given target number target and index1 < index2. Note that index1 and index2 cannot be equal, therefore you may not use the same element twice.\n",
    "\n",
    "There will always be exactly one valid solution.\n",
    "\n",
    "Your solution must use \n",
    "O\n",
    "(\n",
    "1\n",
    ")\n",
    "O(1) additional space."
   ]
  },
  {
   "cell_type": "markdown",
   "id": "d1647fa1-f5c2-4747-8371-34a226bcdcef",
   "metadata": {},
   "source": [
    "## My Solution"
   ]
  },
  {
   "cell_type": "code",
   "execution_count": 32,
   "id": "e658fe42-18f9-4522-83ea-dfc85761ab2f",
   "metadata": {},
   "outputs": [],
   "source": [
    "class Solution:\n",
    "    def twoSum(self, numbers, target):\n",
    "        l, r = 0, 1\n",
    "        limit = len(numbers) - 1\n",
    "\n",
    "        while l <= r:\n",
    "            if (numbers[l] + numbers[r]) == target:\n",
    "                return [l + 1, r + 1]\n",
    "\n",
    "            else:\n",
    "                if r != limit:\n",
    "                    r += 1\n",
    "                else:\n",
    "                    l += 1\n",
    "                    r = l + 1\n",
    "            \n",
    "            \n",
    "        "
   ]
  },
  {
   "cell_type": "code",
   "execution_count": 34,
   "id": "f6a6e981-09bf-4c02-9758-c698eeaeccd0",
   "metadata": {},
   "outputs": [
    {
     "data": {
      "text/plain": [
       "[1, 2]"
      ]
     },
     "execution_count": 34,
     "metadata": {},
     "output_type": "execute_result"
    }
   ],
   "source": [
    "nums = [3,4,5,6]\n",
    "\n",
    "Solution().twoSum(nums, 7)"
   ]
  },
  {
   "cell_type": "markdown",
   "id": "8fec1254-6dcf-4ba9-9173-0cb9742e1607",
   "metadata": {},
   "source": [
    "--------------"
   ]
  },
  {
   "cell_type": "markdown",
   "id": "280dc04b-729b-4ce7-9d9f-f678161aedd2",
   "metadata": {},
   "source": [
    "## Solutions"
   ]
  },
  {
   "cell_type": "code",
   "execution_count": 40,
   "id": "a25b4d6b-1bca-4271-aeab-f2afa0027b99",
   "metadata": {},
   "outputs": [],
   "source": [
    "# Brute-Force\n",
    "\n",
    "class Solution:\n",
    "    def twoSum(self, numbers):\n",
    "        for i in range(len(numbers)):\n",
    "            for j in range(i + 1, len(numbers)):\n",
    "                if numbers[i] + numbers[j] == target:\n",
    "                    return [i + 1, j + 1]\n",
    "        return []\n",
    "\n"
   ]
  },
  {
   "cell_type": "code",
   "execution_count": 42,
   "id": "5d68bca4-ab1f-4038-96fe-8be837d309c7",
   "metadata": {},
   "outputs": [],
   "source": [
    "# Binary Search\n",
    "class Solution:\n",
    "    def twoSum(self, numbers, target):\n",
    "        for i in range(len(numbers)):\n",
    "            l, r = i + 1, len(numbers) - 1\n",
    "            tmp = target - numbers[i]\n",
    "            while l <= r:\n",
    "                mid = l + (r - l)//2\n",
    "                if numbers[mid] == tmp:\n",
    "                    return [i + 1, mid + 1]\n",
    "                elif numbers[mid] < tmp:\n",
    "                    l = mid + 1\n",
    "                else:\n",
    "                    r = mid - 1\n",
    "        return []"
   ]
  },
  {
   "cell_type": "code",
   "execution_count": 44,
   "id": "eb68c543-06a2-40b0-bc7d-7e94c7e4baec",
   "metadata": {},
   "outputs": [],
   "source": [
    "# Hash Map\n",
    "class Solution:\n",
    "    def twoSum(self, numbers, target):\n",
    "        mp = defaultdict(int)\n",
    "        for i in range(len(numbers)):\n",
    "            tmp = target - numbers[i]\n",
    "            if mp[tmp]:\n",
    "                return [mp[tmp], i + 1]\n",
    "            mp[numbers[i]] = i + 1\n",
    "        return []"
   ]
  },
  {
   "cell_type": "code",
   "execution_count": 46,
   "id": "bc45635b-c46a-4062-9023-232478c0d5e4",
   "metadata": {},
   "outputs": [],
   "source": [
    "# Two Pointers\n",
    "class Solution:\n",
    "    def twoSum(self, numbers, target):\n",
    "        l, r = 0, len(numbers) - 1\n",
    "\n",
    "        while l < r:\n",
    "            curSum = numbers[l] + numbers[r]\n",
    "\n",
    "            if curSum > target:\n",
    "                r -= 1\n",
    "            elif curSum < target:\n",
    "                l += 1\n",
    "            else:\n",
    "                return [l + 1, r + 1]\n",
    "        return []"
   ]
  }
 ],
 "metadata": {
  "kernelspec": {
   "display_name": "Python [conda env:base] *",
   "language": "python",
   "name": "conda-base-py"
  },
  "language_info": {
   "codemirror_mode": {
    "name": "ipython",
    "version": 3
   },
   "file_extension": ".py",
   "mimetype": "text/x-python",
   "name": "python",
   "nbconvert_exporter": "python",
   "pygments_lexer": "ipython3",
   "version": "3.12.7"
  }
 },
 "nbformat": 4,
 "nbformat_minor": 5
}
