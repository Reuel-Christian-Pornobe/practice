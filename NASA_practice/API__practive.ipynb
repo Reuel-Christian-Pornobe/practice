{
  "nbformat": 4,
  "nbformat_minor": 0,
  "metadata": {
    "colab": {
      "provenance": [],
      "authorship_tag": "ABX9TyOKpWweyE6tc91N7yEux8Qp",
      "include_colab_link": true
    },
    "kernelspec": {
      "name": "python3",
      "display_name": "Python 3"
    },
    "language_info": {
      "name": "python"
    }
  },
  "cells": [
    {
      "cell_type": "markdown",
      "metadata": {
        "id": "view-in-github",
        "colab_type": "text"
      },
      "source": [
        "<a href=\"https://colab.research.google.com/github/Reuel-Christian-Pornobe/practice/blob/main/API__practive.ipynb\" target=\"_parent\"><img src=\"https://colab.research.google.com/assets/colab-badge.svg\" alt=\"Open In Colab\"/></a>"
      ]
    },
    {
      "cell_type": "code",
      "execution_count": 9,
      "metadata": {
        "colab": {
          "base_uri": "https://localhost:8080/"
        },
        "id": "Yto0Wzky785E",
        "outputId": "179c85d2-3af4-4add-f8c9-04e39ab282e6"
      },
      "outputs": [
        {
          "output_type": "stream",
          "name": "stdout",
          "text": [
            "200\n"
          ]
        }
      ],
      "source": [
        "import requests\n",
        "\n",
        "base_url = 'https://randomfox.ca/floof'\n",
        "\n",
        "response = requests.get(base_url)\n",
        "print(response.status_code)"
      ]
    },
    {
      "cell_type": "code",
      "source": [
        "response.text"
      ],
      "metadata": {
        "colab": {
          "base_uri": "https://localhost:8080/",
          "height": 36
        },
        "id": "gR2EMPPz89gW",
        "outputId": "a37758b8-a786-4a5f-ec32-ced9d5ef0070"
      },
      "execution_count": 10,
      "outputs": [
        {
          "output_type": "execute_result",
          "data": {
            "text/plain": [
              "'{\"image\":\"https:\\\\/\\\\/randomfox.ca\\\\/images\\\\/66.jpg\",\"link\":\"https:\\\\/\\\\/randomfox.ca\\\\/?i=66\"}'"
            ],
            "application/vnd.google.colaboratory.intrinsic+json": {
              "type": "string"
            }
          },
          "metadata": {},
          "execution_count": 10
        }
      ]
    },
    {
      "cell_type": "code",
      "source": [
        "print(response.json)"
      ],
      "metadata": {
        "colab": {
          "base_uri": "https://localhost:8080/"
        },
        "id": "sMRz7okX97ZP",
        "outputId": "5fa0b954-9aaf-482f-95ce-1358b5bcd435"
      },
      "execution_count": 11,
      "outputs": [
        {
          "output_type": "stream",
          "name": "stdout",
          "text": [
            "<bound method Response.json of <Response [200]>>\n"
          ]
        }
      ]
    },
    {
      "cell_type": "code",
      "source": [
        "fox = response.json()"
      ],
      "metadata": {
        "id": "owVbpuNd-SA4"
      },
      "execution_count": 15,
      "outputs": []
    },
    {
      "cell_type": "code",
      "source": [
        "fox"
      ],
      "metadata": {
        "colab": {
          "base_uri": "https://localhost:8080/"
        },
        "id": "KpEuYf2dA0Vf",
        "outputId": "cd19f5f5-6bae-444d-cebf-c4b170b59fb1"
      },
      "execution_count": 16,
      "outputs": [
        {
          "output_type": "execute_result",
          "data": {
            "text/plain": [
              "{'image': 'https://randomfox.ca/images/66.jpg',\n",
              " 'link': 'https://randomfox.ca/?i=66'}"
            ]
          },
          "metadata": {},
          "execution_count": 16
        }
      ]
    },
    {
      "cell_type": "code",
      "source": [
        "print(fox['image'])"
      ],
      "metadata": {
        "colab": {
          "base_uri": "https://localhost:8080/"
        },
        "id": "4vjZ1vr6A06O",
        "outputId": "fd9069b6-df36-4049-e734-375e7e2c296a"
      },
      "execution_count": 17,
      "outputs": [
        {
          "output_type": "stream",
          "name": "stdout",
          "text": [
            "https://randomfox.ca/images/66.jpg\n"
          ]
        }
      ]
    },
    {
      "cell_type": "code",
      "source": [],
      "metadata": {
        "id": "_clsdhKKA-il"
      },
      "execution_count": null,
      "outputs": []
    }
  ]
}
