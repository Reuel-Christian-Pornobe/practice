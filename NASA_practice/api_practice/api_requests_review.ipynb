{
  "nbformat": 4,
  "nbformat_minor": 0,
  "metadata": {
    "colab": {
      "provenance": [],
      "authorship_tag": "ABX9TyPUwtpVts1nd3DhYeGvF+jt",
      "include_colab_link": true
    },
    "kernelspec": {
      "name": "python3",
      "display_name": "Python 3"
    },
    "language_info": {
      "name": "python"
    }
  },
  "cells": [
    {
      "cell_type": "markdown",
      "metadata": {
        "id": "view-in-github",
        "colab_type": "text"
      },
      "source": [
        "<a href=\"https://colab.research.google.com/github/Reuel-Christian-Pornobe/practice/blob/main/api_requests_review.ipynb\" target=\"_parent\"><img src=\"https://colab.research.google.com/assets/colab-badge.svg\" alt=\"Open In Colab\"/></a>"
      ]
    },
    {
      "cell_type": "code",
      "execution_count": null,
      "metadata": {
        "id": "DbX1FGLgvEJT"
      },
      "outputs": [],
      "source": [
        "import requests"
      ]
    },
    {
      "cell_type": "markdown",
      "source": [
        "https://pokeapi.co/api/v2/\n"
      ],
      "metadata": {
        "id": "5TjbamAXvkk7"
      }
    },
    {
      "cell_type": "code",
      "source": [
        "base_url = 'https://pokeapi.co/api/v2/'"
      ],
      "metadata": {
        "id": "YAP-Uh2DvIzF"
      },
      "execution_count": null,
      "outputs": []
    },
    {
      "cell_type": "code",
      "source": [
        "def get_info_pokemon(name):\n",
        "    url = f\"{base_url}/pokemon/{name}\"\n",
        "    response = requests.get(url)\n",
        "\n",
        "    if response.status_code == 200:\n",
        "        pokemon_data = response.json()   # dictionary\n",
        "        return pokemon_data\n",
        "\n",
        "    else:\n",
        "        print(f'Fetching data failed: {response.status_code}')"
      ],
      "metadata": {
        "id": "eBDGFCmPvzdx"
      },
      "execution_count": 24,
      "outputs": []
    },
    {
      "cell_type": "code",
      "source": [
        "pokemon_info = get_info_pokemon('squirtle')"
      ],
      "metadata": {
        "id": "ouQ4LvmVwR3x"
      },
      "execution_count": 29,
      "outputs": []
    },
    {
      "cell_type": "code",
      "source": [
        "if pokemon_info:        #check if the dictionary exists\n",
        "    print(f'{pokemon_info['name']}')\n"
      ],
      "metadata": {
        "id": "b4g0NCElwg9p",
        "colab": {
          "base_uri": "https://localhost:8080/"
        },
        "outputId": "121228cc-e7f6-4cf4-8da1-9e4063528b7d"
      },
      "execution_count": 30,
      "outputs": [
        {
          "output_type": "stream",
          "name": "stdout",
          "text": [
            "squirtle\n"
          ]
        }
      ]
    },
    {
      "cell_type": "code",
      "source": [],
      "metadata": {
        "id": "SJjFhLxczg11"
      },
      "execution_count": null,
      "outputs": []
    }
  ]
}
