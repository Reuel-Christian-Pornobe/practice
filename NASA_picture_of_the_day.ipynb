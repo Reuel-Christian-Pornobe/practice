{
 "cells": [
  {
   "cell_type": "code",
   "execution_count": 4,
   "id": "e685e7dc-0690-4dab-b308-fc891b05ac8c",
   "metadata": {},
   "outputs": [],
   "source": [
    "import urllib.request\n",
    "import json\n",
    "import webbrowser"
   ]
  },
  {
   "cell_type": "code",
   "execution_count": 7,
   "id": "754ae36b-d485-4e1b-9499-1940ea0cbce1",
   "metadata": {},
   "outputs": [],
   "source": [
    "# Astronomy Picture of the Day \n",
    "\n",
    "apod_url = 'https://api.nasa.gov/planetary/apod?' # URL of the APOD\n",
    "my_key = 'api_key=DEMO_KEY'"
   ]
  },
  {
   "cell_type": "code",
   "execution_count": 8,
   "id": "56202173-0308-48b5-a6b5-830bf505cf45",
   "metadata": {},
   "outputs": [],
   "source": [
    "# Calls the Web Service\n",
    "\n",
    "apod_url_obj = urllib.request.urlopen(apod_url  + my_key)"
   ]
  },
  {
   "cell_type": "code",
   "execution_count": 9,
   "id": "a34398ad-e501-4df2-9ef5-f00c41c10ad2",
   "metadata": {},
   "outputs": [],
   "source": [
    "# Read the object\n",
    "\n",
    "apod_read = apod_url_obj.read()"
   ]
  },
  {
   "cell_type": "code",
   "execution_count": 13,
   "id": "01a79ce7-6c42-4c21-8e41-15721b5f38dd",
   "metadata": {},
   "outputs": [],
   "source": [
    "# decode the JSON file (apod_read)\n",
    "\n",
    "apod_json = json.loads(apod_read.decode('utf-8'))"
   ]
  },
  {
   "cell_type": "code",
   "execution_count": 15,
   "id": "501e6aac-57ea-432d-ad4b-b024305ea996",
   "metadata": {},
   "outputs": [
    {
     "data": {
      "text/plain": [
       "{'copyright': '\\nJ. De Winter,\\nC. Humbert, \\nC. Robert & \\nV. Sabet;\\nText: Ogetay Kayali \\n(MTU) \\n',\n",
       " 'date': '2025-09-17',\n",
       " 'explanation': \"Can you spot famous celestial objects in this image?  18th-century astronomer Charles Messier cataloged only two of them: the bright Lagoon Nebula (M8) at the bottom, and the colorful Trifid Nebula (M20) at the upper right.  The one on the left that resembles a cat's paw is NGC 6559, and it is much fainter than the other two.  Even harder to spot are the thin blue filaments on the left, from supernova remnant (SNR G007.5-01.7).  Their glow comes from small amounts of glowing oxygen atoms that are so faint that it took over 17 hours of exposure with just one blue color to bring up. Framing this scene of stellar birth and death are two star clusters: the open cluster M21 just above Trifid, and the globular cluster NGC 6544 at lower left.\",\n",
       " 'hdurl': 'https://apod.nasa.gov/apod/image/2509/SagNebs_DeWinter_4550.jpg',\n",
       " 'media_type': 'image',\n",
       " 'service_version': 'v1',\n",
       " 'title': 'Nebulas and Clusters in Sagittarius',\n",
       " 'url': 'https://apod.nasa.gov/apod/image/2509/SagNebs_DeWinter_960.jpg'}"
      ]
     },
     "execution_count": 15,
     "metadata": {},
     "output_type": "execute_result"
    }
   ],
   "source": [
    "apod_json"
   ]
  },
  {
   "cell_type": "code",
   "execution_count": 17,
   "id": "31e92172-ac29-4df7-bbee-29419c83f0a5",
   "metadata": {},
   "outputs": [
    {
     "data": {
      "text/plain": [
       "True"
      ]
     },
     "execution_count": 17,
     "metadata": {},
     "output_type": "execute_result"
    }
   ],
   "source": [
    "# opens the url using web browser\n",
    "webbrowser.open(apod_json['url'])"
   ]
  },
  {
   "cell_type": "code",
   "execution_count": null,
   "id": "1979c277-9504-459d-8fca-1809fa9b0157",
   "metadata": {},
   "outputs": [],
   "source": []
  }
 ],
 "metadata": {
  "kernelspec": {
   "display_name": "Python [conda env:base] *",
   "language": "python",
   "name": "conda-base-py"
  },
  "language_info": {
   "codemirror_mode": {
    "name": "ipython",
    "version": 3
   },
   "file_extension": ".py",
   "mimetype": "text/x-python",
   "name": "python",
   "nbconvert_exporter": "python",
   "pygments_lexer": "ipython3",
   "version": "3.13.5"
  }
 },
 "nbformat": 4,
 "nbformat_minor": 5
}
