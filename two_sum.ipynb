{
 "cells": [
  {
   "cell_type": "markdown",
   "id": "04ee130f-6e4e-4254-ae0b-b883fb4c090f",
   "metadata": {},
   "source": [
    "#### Given an array of integers nums and an integer target, return the indices i and j such that nums[i] + nums[j] == target and i != j.\n",
    "\n",
    "#### You may assume that every input has exactly one pair of indices i and j that satisfy the condition.\n",
    "\n",
    "#### Return the answer with the smaller index first."
   ]
  },
  {
   "cell_type": "markdown",
   "id": "e06069ba-a295-4dbe-a688-27f621daeffd",
   "metadata": {},
   "source": [
    "Example 1:\n",
    "\n",
    "Input: \n",
    "nums = [3,4,5,6], target = 7\n",
    "\n",
    "Output: [0,1]"
   ]
  },
  {
   "cell_type": "code",
   "execution_count": 12,
   "id": "9fecdaa7-664f-4358-9d3a-d5a182bbe5c6",
   "metadata": {},
   "outputs": [],
   "source": [
    "def twoSum(arr, target):\n",
    "    #kinda like sliding window\n",
    "    l, r = 0, 1\n",
    "    answer = []\n",
    "    \n",
    "    \n",
    "    while l <= r:\n",
    "        if (arr[l] + arr[r]) == target:\n",
    "            answer.append(l)\n",
    "            answer.append(r)\n",
    "            return answer\n",
    "    \n",
    "        else:\n",
    "            if r != (len(arr) - 1):\n",
    "                r += 1\n",
    "    \n",
    "            else:\n",
    "                l += 1\n",
    "                r = l + 1\n"
   ]
  },
  {
   "cell_type": "code",
   "execution_count": 14,
   "id": "c6c84ee1-ef5b-4703-9662-da8ad6122a20",
   "metadata": {},
   "outputs": [
    {
     "data": {
      "text/plain": [
       "[0, 1]"
      ]
     },
     "execution_count": 14,
     "metadata": {},
     "output_type": "execute_result"
    }
   ],
   "source": [
    "nums = [3,4,5,6]\n",
    "\n",
    "twoSum(nums, 7)\n"
   ]
  }
 ],
 "metadata": {
  "kernelspec": {
   "display_name": "Python [conda env:base] *",
   "language": "python",
   "name": "conda-base-py"
  },
  "language_info": {
   "codemirror_mode": {
    "name": "ipython",
    "version": 3
   },
   "file_extension": ".py",
   "mimetype": "text/x-python",
   "name": "python",
   "nbconvert_exporter": "python",
   "pygments_lexer": "ipython3",
   "version": "3.12.7"
  }
 },
 "nbformat": 4,
 "nbformat_minor": 5
}
